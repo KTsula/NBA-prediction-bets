{
 "cells": [
  {
   "cell_type": "code",
   "execution_count": 21,
   "metadata": {},
   "outputs": [],
   "source": [
    "import pandas as pd\n",
    "import pickle"
   ]
  },
  {
   "cell_type": "code",
   "execution_count": 22,
   "metadata": {},
   "outputs": [],
   "source": [
    "data = pd.read_csv(\"nba_2024-25_data.csv\")"
   ]
  },
  {
   "cell_type": "code",
   "execution_count": 23,
   "metadata": {},
   "outputs": [],
   "source": [
    "model = pickle.load(open(\"good_model/model.pkl\", \"rb\"))\n",
    "sc = pickle.load(open(\"good_model/sc.pkl\", \"rb\"))"
   ]
  },
  {
   "cell_type": "code",
   "execution_count": 35,
   "metadata": {},
   "outputs": [],
   "source": [
    "df = data[data[\"GAME_DATE\"] == data.iloc[-1][\"GAME_DATE\"]]\n",
    "dt = df.drop([\"WL\", \"PLUS_MINUS\"], axis=1)"
   ]
  },
  {
   "cell_type": "code",
   "execution_count": 36,
   "metadata": {},
   "outputs": [],
   "source": [
    "yest_data = df[\n",
    "    [\n",
    "        \"P_W_PCT\",\n",
    "        \"PAST_WL\",\n",
    "        \"PAST_PTS\",\n",
    "        \"P_W-L\",\n",
    "        \"PAST_REB\",\n",
    "        \"PAST_AST\",\n",
    "        \"PAST_STL\",\n",
    "        \"PAST_BLK\",\n",
    "        \"PAST_TOV\",\n",
    "        \"PAST_PF\",\n",
    "        \"PAST_FG3_PCT\",\n",
    "        \"PAST_TS\",\n",
    "        \"PAST_EFG\",\n",
    "        \"P_W_PCT_OPP\",\n",
    "        \"PAST_WL_OPP\",\n",
    "        \"PAST_PTS_OPP\",\n",
    "        \"P_W-L_OPP\",\n",
    "        \"PAST_REB_OPP\",\n",
    "        \"PAST_AST_OPP\",\n",
    "        \"PAST_STL_OPP\",\n",
    "        \"PAST_BLK_OPP\",\n",
    "        \"PAST_TOV_OPP\",\n",
    "        \"PAST_PF_OPP\",\n",
    "        \"PAST_FG3_PCT_OPP\",\n",
    "        \"PAST_TS_OPP\",\n",
    "        \"PAST_EFG_OPP\",\n",
    "        \"TEAM_ELO\",\n",
    "        \"OPP_TEAM_ELO\",\n",
    "        \"ELO_WIN_PROB\",\n",
    "    ]\n",
    "]"
   ]
  },
  {
   "cell_type": "code",
   "execution_count": 37,
   "metadata": {},
   "outputs": [],
   "source": [
    "yest_X = sc.transform(yest_data)\n",
    "yest_pred = model.predict(yest_X)"
   ]
  },
  {
   "cell_type": "code",
   "execution_count": 38,
   "metadata": {},
   "outputs": [
    {
     "data": {
      "text/html": [
       "<div>\n",
       "<style scoped>\n",
       "    .dataframe tbody tr th:only-of-type {\n",
       "        vertical-align: middle;\n",
       "    }\n",
       "\n",
       "    .dataframe tbody tr th {\n",
       "        vertical-align: top;\n",
       "    }\n",
       "\n",
       "    .dataframe thead th {\n",
       "        text-align: right;\n",
       "    }\n",
       "</style>\n",
       "<table border=\"1\" class=\"dataframe\">\n",
       "  <thead>\n",
       "    <tr style=\"text-align: right;\">\n",
       "      <th></th>\n",
       "      <th>GAME_ID</th>\n",
       "      <th>TEAM_ABBREVIATION</th>\n",
       "      <th>OPP_TEAM_ABBREVIATION</th>\n",
       "      <th>GAME_DATE</th>\n",
       "      <th>P_W_PCT</th>\n",
       "      <th>PAST_WL</th>\n",
       "      <th>PAST_PTS</th>\n",
       "      <th>P_W-L</th>\n",
       "      <th>PAST_REB</th>\n",
       "      <th>PAST_AST</th>\n",
       "      <th>...</th>\n",
       "      <th>PAST_STL_OPP</th>\n",
       "      <th>PAST_BLK_OPP</th>\n",
       "      <th>PAST_TOV_OPP</th>\n",
       "      <th>PAST_PF_OPP</th>\n",
       "      <th>PAST_FG3_PCT_OPP</th>\n",
       "      <th>PAST_TS_OPP</th>\n",
       "      <th>PAST_EFG_OPP</th>\n",
       "      <th>TEAM_ELO</th>\n",
       "      <th>OPP_TEAM_ELO</th>\n",
       "      <th>ELO_WIN_PROB</th>\n",
       "    </tr>\n",
       "  </thead>\n",
       "  <tbody>\n",
       "    <tr>\n",
       "      <th>281</th>\n",
       "      <td>22401201</td>\n",
       "      <td>MIL</td>\n",
       "      <td>ORL</td>\n",
       "      <td>DEC 10, 2024</td>\n",
       "      <td>0.522</td>\n",
       "      <td>0.6</td>\n",
       "      <td>115.8</td>\n",
       "      <td>1.0</td>\n",
       "      <td>39.2</td>\n",
       "      <td>24.4</td>\n",
       "      <td>...</td>\n",
       "      <td>10.2</td>\n",
       "      <td>6.8</td>\n",
       "      <td>16.4</td>\n",
       "      <td>21.6</td>\n",
       "      <td>0.2746</td>\n",
       "      <td>0.558985</td>\n",
       "      <td>0.516568</td>\n",
       "      <td>1517.970033</td>\n",
       "      <td>1560.959630</td>\n",
       "      <td>0.438447</td>\n",
       "    </tr>\n",
       "    <tr>\n",
       "      <th>282</th>\n",
       "      <td>22401203</td>\n",
       "      <td>OKC</td>\n",
       "      <td>DAL</td>\n",
       "      <td>DEC 10, 2024</td>\n",
       "      <td>0.783</td>\n",
       "      <td>0.8</td>\n",
       "      <td>119.6</td>\n",
       "      <td>13.0</td>\n",
       "      <td>45.4</td>\n",
       "      <td>27.4</td>\n",
       "      <td>...</td>\n",
       "      <td>10.2</td>\n",
       "      <td>6.8</td>\n",
       "      <td>17.2</td>\n",
       "      <td>18.2</td>\n",
       "      <td>0.4390</td>\n",
       "      <td>0.631926</td>\n",
       "      <td>0.596310</td>\n",
       "      <td>1592.323942</td>\n",
       "      <td>1566.825262</td>\n",
       "      <td>0.536630</td>\n",
       "    </tr>\n",
       "  </tbody>\n",
       "</table>\n",
       "<p>2 rows × 33 columns</p>\n",
       "</div>"
      ],
      "text/plain": [
       "      GAME_ID TEAM_ABBREVIATION OPP_TEAM_ABBREVIATION     GAME_DATE  P_W_PCT  \\\n",
       "281  22401201               MIL                   ORL  DEC 10, 2024    0.522   \n",
       "282  22401203               OKC                   DAL  DEC 10, 2024    0.783   \n",
       "\n",
       "     PAST_WL  PAST_PTS  P_W-L  PAST_REB  PAST_AST  ...  PAST_STL_OPP  \\\n",
       "281      0.6     115.8    1.0      39.2      24.4  ...          10.2   \n",
       "282      0.8     119.6   13.0      45.4      27.4  ...          10.2   \n",
       "\n",
       "     PAST_BLK_OPP  PAST_TOV_OPP  PAST_PF_OPP  PAST_FG3_PCT_OPP  PAST_TS_OPP  \\\n",
       "281           6.8          16.4         21.6            0.2746     0.558985   \n",
       "282           6.8          17.2         18.2            0.4390     0.631926   \n",
       "\n",
       "     PAST_EFG_OPP     TEAM_ELO  OPP_TEAM_ELO  ELO_WIN_PROB  \n",
       "281      0.516568  1517.970033   1560.959630      0.438447  \n",
       "282      0.596310  1592.323942   1566.825262      0.536630  \n",
       "\n",
       "[2 rows x 33 columns]"
      ]
     },
     "execution_count": 38,
     "metadata": {},
     "output_type": "execute_result"
    }
   ],
   "source": [
    "dt"
   ]
  },
  {
   "cell_type": "code",
   "execution_count": 40,
   "metadata": {},
   "outputs": [
    {
     "data": {
      "text/plain": [
       "array([1, 1], dtype=int64)"
      ]
     },
     "execution_count": 40,
     "metadata": {},
     "output_type": "execute_result"
    }
   ],
   "source": [
    "yest_pred"
   ]
  },
  {
   "cell_type": "code",
   "execution_count": null,
   "metadata": {},
   "outputs": [],
   "source": []
  }
 ],
 "metadata": {
  "kernelspec": {
   "display_name": "Python 3",
   "language": "python",
   "name": "python3"
  },
  "language_info": {
   "codemirror_mode": {
    "name": "ipython",
    "version": 3
   },
   "file_extension": ".py",
   "mimetype": "text/x-python",
   "name": "python",
   "nbconvert_exporter": "python",
   "pygments_lexer": "ipython3",
   "version": "3.11.5"
  }
 },
 "nbformat": 4,
 "nbformat_minor": 2
}
